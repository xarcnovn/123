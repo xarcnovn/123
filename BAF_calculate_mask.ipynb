{
  "nbformat": 4,
  "nbformat_minor": 0,
  "metadata": {
    "colab": {
      "provenance": [],
      "gpuType": "T4",
      "authorship_tag": "ABX9TyPo3kAjjuek46tdweuOANCr",
      "include_colab_link": true
    },
    "kernelspec": {
      "name": "python3",
      "display_name": "Python 3"
    },
    "language_info": {
      "name": "python"
    },
    "accelerator": "GPU"
  },
  "cells": [
    {
      "cell_type": "markdown",
      "metadata": {
        "id": "view-in-github",
        "colab_type": "text"
      },
      "source": [
        "<a href=\"https://colab.research.google.com/github/xarcnovn/BAF_SAM-/blob/master/BAF_calculate_mask.ipynb\" target=\"_parent\"><img src=\"https://colab.research.google.com/assets/colab-badge.svg\" alt=\"Open In Colab\"/></a>"
      ]
    },
    {
      "cell_type": "code",
      "source": [
        "from PIL import Image\n",
        "import numpy as np"
      ],
      "metadata": {
        "id": "EIkQ839PeNie"
      },
      "execution_count": 5,
      "outputs": []
    },
    {
      "cell_type": "code",
      "source": [
        "# Load the aerial photo and mask image\n",
        "plot_image = Image.open('SAMplot.jpg')\n",
        "mask_image = Image.open('mask2.png').convert(\"L\")"
      ],
      "metadata": {
        "id": "ieotjbHxjQK2"
      },
      "execution_count": 62,
      "outputs": []
    },
    {
      "cell_type": "code",
      "source": [
        "# Plot area (from QGIS)\n",
        "\n",
        "total_plot_area_m2=10000\n",
        "\n",
        "BAFarea_m2 = 0"
      ],
      "metadata": {
        "id": "4ayJ7y5heYnA"
      },
      "execution_count": 52,
      "outputs": []
    },
    {
      "cell_type": "code",
      "execution_count": 53,
      "metadata": {
        "id": "gxqd0OOVeL7U"
      },
      "outputs": [],
      "source": [
        "# Subtracts the mask from the image\n",
        "def calculate_remaining_area(plot_image, mask_image, total_plot_area_m2):\n",
        "    # Resize the mask image to match the plot image dimensions\n",
        "    mask_image = mask_image.resize(plot_image.size, Image.LANCZOS)\n",
        "\n",
        "    # Convert the images to numpy arrays\n",
        "    plot_array = np.array(plot_image)\n",
        "    mask_array = np.array(mask_image)\n",
        "\n",
        "    # Convert mask to binary format based on unique values\n",
        "    mask_binary = (mask_array > 0).astype(int)\n",
        "\n",
        "    # Count the number of pixels in the mask (value = 1)\n",
        "    mask_pixel_count = np.sum(mask_binary)\n",
        "\n",
        "    # Calculate the area represented by a single pixel\n",
        "    total_pixels = plot_array.shape[0] * plot_array.shape[1]\n",
        "    area_per_pixel = total_plot_area_m2 / total_pixels\n",
        "\n",
        "    # Calculate mask area in real-world units\n",
        "    mask_area_m2 = mask_pixel_count * area_per_pixel\n",
        "\n",
        "    # Calculate the area of the remaining area\n",
        "    remaining_area = round((total_plot_area_m2 - mask_area_m2),2)\n",
        "\n",
        "    return remaining_area"
      ]
    },
    {
      "cell_type": "code",
      "source": [
        "BAFarea_m2 = calculate_remaining_area(plot_image, mask_image, total_plot_area_m2)\n",
        "print(BAFarea_m2)"
      ],
      "metadata": {
        "colab": {
          "base_uri": "https://localhost:8080/"
        },
        "id": "xvPSl2qTe2_J",
        "outputId": "70d47862-f685-4406-f91a-c10fc8916752"
      },
      "execution_count": 59,
      "outputs": [
        {
          "output_type": "stream",
          "name": "stdout",
          "text": [
            "7556.76\n"
          ]
        }
      ]
    },
    {
      "cell_type": "code",
      "source": [
        "BAFarea_m2 = BAFarea_m2 = calculate_remaining_area(plot_image, mask_image, BAFarea_m2)\n",
        "print(BAFarea_m2)"
      ],
      "metadata": {
        "colab": {
          "base_uri": "https://localhost:8080/"
        },
        "id": "FcD2nYBGlAGq",
        "outputId": "657ca9f4-684f-448b-9422-544bd05f8b8c"
      },
      "execution_count": 61,
      "outputs": [
        {
          "output_type": "stream",
          "name": "stdout",
          "text": [
            "5710.46\n"
          ]
        }
      ]
    },
    {
      "cell_type": "code",
      "source": [
        "BAFarea_m2 = BAFarea_m2 = calculate_remaining_area(plot_image, mask_image, BAFarea_m2)\n",
        "print(BAFarea_m2)"
      ],
      "metadata": {
        "colab": {
          "base_uri": "https://localhost:8080/"
        },
        "id": "g5roNERblUhw",
        "outputId": "799410a9-da67-42a2-fc5f-eca72632e838"
      },
      "execution_count": 63,
      "outputs": [
        {
          "output_type": "stream",
          "name": "stdout",
          "text": [
            "5648.49\n"
          ]
        }
      ]
    },
    {
      "cell_type": "code",
      "source": [],
      "metadata": {
        "id": "C6v1Gj2Wp1Q7"
      },
      "execution_count": null,
      "outputs": []
    }
  ]
}